{
 "cells": [
  {
   "cell_type": "code",
   "execution_count": null,
   "metadata": {},
   "outputs": [],
   "source": [
    "from depart.models import StudentInfo\n",
    "import random\n",
    "from datetime import datetime, timedelta\n",
    "from faker import Faker\n",
    "\n",
    "fake = Faker()\n",
    "\n",
    "# Generate and insert 50 student records\n",
    "for i in range(1, 51):\n",
    "    name = fake.name()\n",
    "    roll = i  # Roll numbers are unique and sequential\n",
    "    email = fake.email()\n",
    "    marks = random.randint(0, 100)\n",
    "    pass_date = fake.date_between(start_date='-4y', end_date='today')\n",
    "    \n",
    "    StudentInfo.objects.create(name=name, roll=roll, email=email, marks=marks, pass_date=pass_date)\n",
    "\n",
    "print(\"Successfully inserted 50 student records.\")\n"
   ]
  }
 ],
 "metadata": {
  "kernelspec": {
   "display_name": "venv",
   "language": "python",
   "name": "python3"
  },
  "language_info": {
   "name": "python",
   "version": "3.12.2"
  }
 },
 "nbformat": 4,
 "nbformat_minor": 2
}
